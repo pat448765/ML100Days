{
  "nbformat": 4,
  "nbformat_minor": 0,
  "metadata": {
    "anaconda-cloud": {},
    "kernelspec": {
      "display_name": "Python 3",
      "language": "python",
      "name": "python3"
    },
    "language_info": {
      "codemirror_mode": {
        "name": "ipython",
        "version": 3
      },
      "file_extension": ".py",
      "mimetype": "text/x-python",
      "name": "python",
      "nbconvert_exporter": "python",
      "pygments_lexer": "ipython3",
      "version": "3.8.3"
    },
    "colab": {
      "name": "Day_001_HW.ipynb",
      "provenance": []
    },
    "accelerator": "GPU"
  },
<<<<<<< HEAD
  {
   "cell_type": "markdown",
   "metadata": {},
   "source": [
    "# [作業目標]\n",
    "- 仿造範例的MAE函數, 自己寫一個MSE函數(參考上面公式)"
   ]
  },
  {
   "cell_type": "markdown",
   "metadata": {},
   "source": [
    "# [作業重點]\n",
    "- 注意程式的縮排\n",
    "- 是否能將數學公式, 轉換為 Python 的函式組合? (In[2], Out[2])"
   ]
  },
  {
   "cell_type": "code",
   "execution_count": 22,
   "metadata": {},
   "outputs": [],
   "source": [
    "# 載入基礎套件與代稱\n",
    "import numpy as np\n",
    "import matplotlib.pyplot as plt"
   ]
  },
  {
   "cell_type": "code",
   "execution_count": 51,
   "metadata": {},
   "outputs": [],
   "source": [
    "def mean_absolute_error(y, yp):\n",
    "    \"\"\"\n",
    "    計算 MAE\n",
    "    Args:\n",
    "        - y: 實際值\n",
    "        - yp: 預測值\n",
    "    Return:\n",
    "        - mae: MAE\n",
    "    \"\"\"\n",
    "    mae = MAE = sum(abs(y - yp)) / len(y)\n",
    "    return mae\n",
    "\n",
    "# 定義 mean_squared_error 這個函數, 計算並傳回 MSE\n",
    "def mean_squared_error(y, yp):\n",
    "    \"\"\"\n",
    "    請完成這個 Function 後往下執行\n",
    "    \"\"\"\n",
    "    mse = MSE = sum((y - yp)**2) / len(y)\n",
    "    return mse"
   ]
  },
  {
   "cell_type": "code",
   "execution_count": 52,
   "metadata": {},
   "outputs": [
    {
     "data": {
      "image/png": "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\n",
      "text/plain": [
       "<Figure size 432x288 with 1 Axes>"
      ]
     },
     "metadata": {
      "needs_background": "light"
     },
     "output_type": "display_data"
    }
   ],
   "source": [
    "# 與範例相同, 不另外解說\n",
    "w = 3\n",
    "b = 0.5\n",
    "x_lin = np.linspace(0, 100, 101)\n",
    "y = (x_lin + np.random.randn(101) * 5) * w + b\n",
    "\n",
    "plt.plot(x_lin, y, 'b.', label = 'data points')\n",
    "plt.title(\"Assume we have data points\")\n",
    "plt.legend(loc = 2)\n",
    "plt.show()"
   ]
  },
  {
   "cell_type": "code",
   "execution_count": 53,
   "metadata": {},
   "outputs": [
    {
     "data": {
      "image/png": "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\n",
      "text/plain": [
       "<Figure size 432x288 with 1 Axes>"
      ]
     },
     "metadata": {
      "needs_background": "light"
     },
     "output_type": "display_data"
    }
   ],
   "source": [
    "# 與範例相同, 不另外解說\n",
    "y_hat = x_lin * w + b\n",
    "plt.plot(x_lin, y, 'b.', label = 'data')\n",
    "plt.plot(x_lin, y_hat, 'r-', label = 'prediction')\n",
    "plt.title(\"Assume we have data points (And the prediction)\")\n",
    "plt.legend(loc = 2)\n",
    "plt.show()"
   ]
  },
  {
   "cell_type": "code",
   "execution_count": 54,
   "metadata": {},
   "outputs": [
    {
     "name": "stdout",
     "output_type": "stream",
     "text": [
      "The Mean squared error is 182.799\n",
      "The Mean absolute error is 11.228\n"
     ]
=======
  "cells": [
    {
      "cell_type": "markdown",
      "metadata": {
        "id": "_0K2paipw_5U",
        "colab_type": "text"
      },
      "source": [
        "## 練習時間\n",
        "#### 請寫一個函式用來計算 Mean Square Error\n",
        "$ MSE = \\frac{1}{n}\\sum_{i=1}^{n}{(Y_i - \\hat{Y}_i)^2} $\n",
        "\n",
        "### Hint: [如何取平方](https://googoodesign.gitbooks.io/-ezpython/unit-1.html)"
      ]
    },
    {
      "cell_type": "markdown",
      "metadata": {
        "id": "mN5wv2Hdw_5W",
        "colab_type": "text"
      },
      "source": [
        "# [作業目標]\n",
        "- 仿造範例的MAE函數, 自己寫一個MSE函數(參考上面公式)"
      ]
    },
    {
      "cell_type": "markdown",
      "metadata": {
        "id": "AyyHLpsjw_5X",
        "colab_type": "text"
      },
      "source": [
        "# [作業重點]\n",
        "- 注意程式的縮排\n",
        "- 是否能將數學公式, 轉換為 Python 的函式組合? (In[2], Out[2])"
      ]
    },
    {
      "cell_type": "code",
      "metadata": {
        "id": "Brcrzpjiw_5Z",
        "colab_type": "code",
        "colab": {}
      },
      "source": [
        "# 載入基礎套件與代稱\n",
        "import numpy as np\n",
        "import matplotlib.pyplot as plt"
      ],
      "execution_count": 1,
      "outputs": []
    },
    {
      "cell_type": "code",
      "metadata": {
        "id": "43DcA33Qw_5g",
        "colab_type": "code",
        "colab": {}
      },
      "source": [
        "def mean_absolute_error(y, yp):\n",
        "    \"\"\"\n",
        "    計算 MAE\n",
        "    Args:\n",
        "        - y: 實際值\n",
        "        - yp: 預測值\n",
        "    Return:\n",
        "        - mae: MAE\n",
        "    \"\"\"\n",
        "    mae = MAE = sum(abs(y - yp)) / len(y)\n",
        "    return mae\n",
        "\n",
        "# 定義 mean_squared_error 這個函數, 計算並傳回 MSE\n",
        "def mean_squared_error(y, yp):\n",
        "    \"\"\"\n",
        "    請完成這個 Function 後往下執行\n",
        "    \"\"\"\n",
        "    mse = MSE = sum((y - yp)**2) / len(y)\n",
        "    return mse"
      ],
      "execution_count": 7,
      "outputs": []
    },
    {
      "cell_type": "code",
      "metadata": {
        "id": "IHVvVNovw_5j",
        "colab_type": "code",
        "colab": {
          "base_uri": "https://localhost:8080/",
          "height": 281
        },
        "outputId": "710efeab-ef00-4a6d-8a0c-8016ffd4a130"
      },
      "source": [
        "# 與範例相同, 不另外解說\n",
        "w = 3\n",
        "b = 0.5\n",
        "x_lin = np.linspace(0, 100, 101)\n",
        "y = (x_lin + np.random.randn(101) * 5) * w + b\n",
        "\n",
        "plt.plot(x_lin, y, 'b.', label = 'data points')\n",
        "plt.title(\"Assume we have data points\")\n",
        "plt.legend(loc = 2)\n",
        "plt.show()"
      ],
      "execution_count": 8,
      "outputs": [
        {
          "output_type": "display_data",
          "data": {
            "image/png": "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\n",
            "text/plain": [
              "<Figure size 432x288 with 1 Axes>"
            ]
          },
          "metadata": {
            "tags": [],
            "needs_background": "light"
          }
        }
      ]
    },
    {
      "cell_type": "code",
      "metadata": {
        "id": "kdaRm2sww_5m",
        "colab_type": "code",
        "colab": {
          "base_uri": "https://localhost:8080/",
          "height": 281
        },
        "outputId": "ff022e7f-1710-439b-a1e9-e49796c0b04f"
      },
      "source": [
        "# 與範例相同, 不另外解說\n",
        "y_hat = x_lin * w + b\n",
        "plt.plot(x_lin, y, 'b.', label = 'data')\n",
        "plt.plot(x_lin, y_hat, 'r-', label = 'prediction')\n",
        "plt.title(\"Assume we have data points (And the prediction)\")\n",
        "plt.legend(loc = 2)\n",
        "plt.show()"
      ],
      "execution_count": 9,
      "outputs": [
        {
          "output_type": "display_data",
          "data": {
            "image/png": "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\n",
            "text/plain": [
              "<Figure size 432x288 with 1 Axes>"
            ]
          },
          "metadata": {
            "tags": [],
            "needs_background": "light"
          }
        }
      ]
    },
    {
      "cell_type": "code",
      "metadata": {
        "id": "wLLHUJYlw_5r",
        "colab_type": "code",
        "colab": {
          "base_uri": "https://localhost:8080/",
          "height": 51
        },
        "outputId": "4d6507c3-773f-4294-90c9-0161d41b9ec2"
      },
      "source": [
        "# 執行 Function, 確認有沒有正常執行\n",
        "MSE = mean_squared_error(y, y_hat)\n",
        "MAE = mean_absolute_error(y, y_hat)\n",
        "print(\"The Mean squared error is %.3f\" % (MSE))\n",
        "print(\"The Mean absolute error is %.3f\" % (MAE))"
      ],
      "execution_count": 11,
      "outputs": [
        {
          "output_type": "stream",
          "text": [
            "The Mean squared error is 178.939\n",
            "The Mean absolute error is 10.610\n"
          ],
          "name": "stdout"
        }
      ]
    },
    {
      "cell_type": "markdown",
      "metadata": {
        "id": "Rs6I54-mw_5t",
        "colab_type": "text"
      },
      "source": [
        "# [作業2]\n",
        "\n",
        "請上 Kaggle, 在 Competitions 或 Dataset 中找一組競賽或資料並寫下：\n",
        "\n",
        "1. 你選的這組資料為何重要\n",
        "\n",
        "2. 資料從何而來 (tips: 譬如提供者是誰、以什麼方式蒐集)\n",
        "\n",
        "3. 蒐集而來的資料型態為何\n",
        "\n",
        "4. 這組資料想解決的問題如何評估\n",
        "\n",
        "# [作業3]\n",
        "\n",
        "想像你經營一個自由載客車隊，你希望能透過數據分析以提升業績，請你思考並描述你如何規劃整體的分析/解決方案：\n",
        "\n",
        "1. 核心問題為何 (tips：如何定義 「提升業績 & 你的假設」)\n",
        "\n",
        "2. 資料從何而來 (tips：哪些資料可能會對你想問的問題產生影響 & 資料如何蒐集)\n",
        "\n",
        "3. 蒐集而來的資料型態為何\n",
        "\n",
        "4. 你要回答的問題，其如何評估 (tips：你的假設如何驗證)"
      ]
    },
    {
      "cell_type": "code",
      "metadata": {
        "id": "68GQgPDnw_5u",
        "colab_type": "code",
        "colab": {}
      },
      "source": [
        ""
      ],
      "execution_count": null,
      "outputs": []
>>>>>>> 646b61550c9675ef370909a2ab12294df8312981
    }
  ]
}